{
 "cells": [
  {
   "cell_type": "markdown",
   "metadata": {},
   "source": [
    "这是一个使用 CodeFuse-Query 分析 Python 项目的教程。在教程中，你将体验到使用命令行工具对代码仓库进行数据化，然后使用 Godel 语言来分析这个仓库。"
   ]
  },
  {
   "cell_type": "markdown",
   "metadata": {
    "collapsed": false
   },
   "source": [
    "检查cli是否就绪"
   ]
  },
  {
   "cell_type": "code",
   "execution_count": 1,
   "metadata": {
    "collapsed": false
   },
   "outputs": [
    {
     "name": "stdout",
     "output_type": "stream",
     "text": [
      "/sparrow-cli/sparrow\n",
      "\n"
     ]
    }
   ],
   "source": [
    "!which sparrow"
   ]
  },
  {
   "cell_type": "markdown",
   "metadata": {
    "collapsed": false
   },
   "source": [
    "STEP 0: 克隆要分析的仓库。我们以 python 仓库 [requests](https://github.com/psf/requests.git) 项目为例。"
   ]
  },
  {
   "cell_type": "code",
   "execution_count": 2,
   "metadata": {
    "ExecuteTime": {
     "end_time": "2023-11-22T08:30:58.387715Z",
     "start_time": "2023-11-22T08:30:44.572634Z"
    }
   },
   "outputs": [],
   "source": [
    "!git clone https://github.com/psf/requests.git -q"
   ]
  },
  {
   "cell_type": "markdown",
   "metadata": {},
   "source": [
    "STEP 1: 代码数据化。使用 `sparrow database create` 命令创建一个db文件，指定待分析的仓库地址（当前目录下的requests子目录），分析的语言（python），以及db文件的存储路径（放置在当前目录下的/db/requests）。执行该命令之后，就会生成一份db文件，该文件存储着代码仓库的结构化数据，之后的分析就是针对这份数据进行。"
   ]
  },
  {
   "cell_type": "code",
   "execution_count": 3,
   "metadata": {
    "ExecuteTime": {
     "end_time": "2023-11-23T03:46:32.220317Z",
     "start_time": "2023-11-23T03:46:12.785705Z"
    }
   },
   "outputs": [],
   "source": [
    "!sparrow database create --source-root requests --data-language-type python --output ./db/requests --overwrite > /dev/null"
   ]
  },
  {
   "cell_type": "markdown",
   "metadata": {},
   "source": [
    "STEP 2: 使用Godel分析语言分析db文件。在本教程中，可以点击代码左侧的执行按钮，或使用快捷键：`Shift+Enter`，直接运行分析脚本。这里使用 `%db /path/to/db` 魔法命令来设置COREF db路径，内核会读取这个值来进行query查询。"
   ]
  },
  {
   "cell_type": "markdown",
   "metadata": {
    "collapsed": false
   },
   "source": [
    "<b>示例</b> 查询 [requests](https://github.com/psf/requests.git) 的文件注释率信息。\n",
    "\n",
    "第一行通过内核魔法命令指定分析的db路径，后面写查询文件代码注释率 Godel 脚本。"
   ]
  },
  {
   "cell_type": "code",
   "execution_count": 4,
   "metadata": {},
   "outputs": [
    {
     "name": "stdout",
     "output_type": "stream",
     "text": [
      "/workspaces/CodeFuse-Query/tutorial/notebook/db/requests\n"
     ]
    },
    {
     "name": "stderr",
     "output_type": "stream",
     "text": [
      "\u001b[0;31mSparrow database is set to: /workspaces/CodeFuse-Query/tutorial/notebook/db/requests\n",
      "\u001b[0m"
     ]
    },
    {
     "name": "stdout",
     "output_type": "stream",
     "text": [
      "2023-12-06 07:48:27,223 INFO: sparrow 2.0.0\n",
      " will start\n",
      "2023-12-06 07:48:27,223 INFO: database /workspaces/CodeFuse-Query/tutorial/notebook/db/requests/coref_python_src.db size: 5.99 MB\n",
      "2023-12-06 07:48:27,224 INFO: execute : /sparrow-cli/godel-script/usr/bin/godel /tmp/godel-jupyter-9f9aj65w/query.gdl -p /sparrow-cli/lib-1.0 -o /tmp/tmp8tgaooo4.gdl\n",
      "2023-12-06 07:48:27,288 INFO: godel-script compile time: 0.06s\n",
      "2023-12-06 07:48:27,288 INFO: execute : /sparrow-cli/godel-1.0/usr/bin/godel /tmp/tmp8tgaooo4.gdl --run-souffle-directly --package-path /sparrow-cli/lib-1.0 --souffle-fact-dir /workspaces/CodeFuse-Query/tutorial/notebook/db/requests --souffle-output-format json --souffle-output-path /tmp/godel-jupyter-9f9aj65w/query.json\n",
      "2023-12-06 07:48:29,410 INFO: Task /tmp/godel-jupyter-9f9aj65w/query.gdl is success, result is NOT-EMPTY, execution time is  2.19s.\n",
      "2023-12-06 07:48:29,411 INFO: run success\n",
      "\n",
      "Total results: 643\n"
     ]
    },
    {
     "data": {
      "text/html": [
       "<div>\n",
       "<style scoped>\n",
       "    .dataframe tbody tr th:only-of-type {\n",
       "        vertical-align: middle;\n",
       "    }\n",
       "\n",
       "    .dataframe tbody tr th {\n",
       "        vertical-align: top;\n",
       "    }\n",
       "\n",
       "    .dataframe thead th {\n",
       "        text-align: right;\n",
       "    }\n",
       "</style>\n",
       "<table border=\"1\" class=\"dataframe\">\n",
       "  <thead>\n",
       "    <tr style=\"text-align: right;\">\n",
       "      <th></th>\n",
       "      <th>name</th>\n",
       "      <th>value</th>\n",
       "      <th>path</th>\n",
       "      <th>sline</th>\n",
       "      <th>eline</th>\n",
       "    </tr>\n",
       "  </thead>\n",
       "  <tbody>\n",
       "    <tr>\n",
       "      <th>0</th>\n",
       "      <td>httpbin</td>\n",
       "      <td>1</td>\n",
       "      <td>tests/conftest.py</td>\n",
       "      <td>26</td>\n",
       "      <td>27</td>\n",
       "    </tr>\n",
       "    <tr>\n",
       "      <th>1</th>\n",
       "      <td>get_encodings_from_content</td>\n",
       "      <td>1</td>\n",
       "      <td>src/requests/utils.py</td>\n",
       "      <td>484</td>\n",
       "      <td>506</td>\n",
       "    </tr>\n",
       "    <tr>\n",
       "      <th>2</th>\n",
       "      <td>request</td>\n",
       "      <td>1</td>\n",
       "      <td>src/requests/api.py</td>\n",
       "      <td>14</td>\n",
       "      <td>59</td>\n",
       "    </tr>\n",
       "    <tr>\n",
       "      <th>3</th>\n",
       "      <td>cookiejar_from_dict</td>\n",
       "      <td>6</td>\n",
       "      <td>src/requests/cookies.py</td>\n",
       "      <td>521</td>\n",
       "      <td>539</td>\n",
       "    </tr>\n",
       "    <tr>\n",
       "      <th>4</th>\n",
       "      <td>consume_socket_content</td>\n",
       "      <td>4</td>\n",
       "      <td>tests/testserver/server.py</td>\n",
       "      <td>6</td>\n",
       "      <td>21</td>\n",
       "    </tr>\n",
       "    <tr>\n",
       "      <th>...</th>\n",
       "      <td>...</td>\n",
       "      <td>...</td>\n",
       "      <td>...</td>\n",
       "      <td>...</td>\n",
       "      <td>...</td>\n",
       "    </tr>\n",
       "    <tr>\n",
       "      <th>638</th>\n",
       "      <td>TestRequests.test_rewind_body_failed_seek.BadF...</td>\n",
       "      <td>1</td>\n",
       "      <td>tests/test_requests.py</td>\n",
       "      <td>1971</td>\n",
       "      <td>1972</td>\n",
       "    </tr>\n",
       "    <tr>\n",
       "      <th>639</th>\n",
       "      <td>TestSuperLen.test_super_len_handles_files_rais...</td>\n",
       "      <td>1</td>\n",
       "      <td>tests/test_utils.py</td>\n",
       "      <td>76</td>\n",
       "      <td>77</td>\n",
       "    </tr>\n",
       "    <tr>\n",
       "      <th>640</th>\n",
       "      <td>TestSuperLen.test_super_len_handles_files_rais...</td>\n",
       "      <td>1</td>\n",
       "      <td>tests/test_utils.py</td>\n",
       "      <td>79</td>\n",
       "      <td>80</td>\n",
       "    </tr>\n",
       "    <tr>\n",
       "      <th>641</th>\n",
       "      <td>TestSuperLen.test_super_len_with_no__len__.Len...</td>\n",
       "      <td>1</td>\n",
       "      <td>tests/test_utils.py</td>\n",
       "      <td>133</td>\n",
       "      <td>134</td>\n",
       "    </tr>\n",
       "    <tr>\n",
       "      <th>642</th>\n",
       "      <td>TestRequests.test_custom_redirect_mixin.Custom...</td>\n",
       "      <td>4</td>\n",
       "      <td>tests/test_requests.py</td>\n",
       "      <td>2196</td>\n",
       "      <td>2204</td>\n",
       "    </tr>\n",
       "  </tbody>\n",
       "</table>\n",
       "</div>"
      ],
      "text/plain": [
       "<IPython.core.display.HTML object>"
      ]
     },
     "metadata": {},
     "output_type": "display_data"
    }
   ],
   "source": [
    "%db ./db/requests\n",
    "// script\n",
    "use coref::python::*\n",
    "\n",
    "fn default_db() -> PythonDB {\n",
    "    return PythonDB::load(\"coref_python_src.db\")\n",
    "}\n",
    "\n",
    "/**\n",
    " * Get cyclomatic complexity of functions\n",
    " *\n",
    " * @param name   function name\n",
    " * @param value  cyclomatic complexity of function\n",
    " * @param path   path of file including this function\n",
    " * @param sline  function start line\n",
    " * @param eline  function end line\n",
    " */\n",
    "fn getCyclomaticComplexity(\n",
    "    name: string,\n",
    "    value: int,\n",
    "    path: string,\n",
    "    sline: int,\n",
    "    eline: int) -> bool {\n",
    "    // get metric function\n",
    "    for (c in MetricFunction(default_db())) {\n",
    "        if (path = c.getLocation().getFile().getRelativePath() &&\n",
    "            name = c.getQualifiedName() &&\n",
    "            value = c.getCyclomaticComplexity() &&\n",
    "            sline = c.getLocation().getStartLineNumber() &&\n",
    "            eline = c.getLocation().getEndLineNumber()) {\n",
    "            return true\n",
    "        }\n",
    "    }\n",
    "}\n",
    "\n",
    "fn main() {\n",
    "    output(getCyclomaticComplexity())\n",
    "}"
   ]
  },
  {
   "cell_type": "markdown",
   "metadata": {},
   "source": [
    "保存上一次运行的 query 结果保存到一个JSON文件"
   ]
  },
  {
   "cell_type": "code",
   "execution_count": 5,
   "metadata": {},
   "outputs": [
    {
     "name": "stdout",
     "output_type": "stream",
     "text": [
      "Query result saved to /workspaces/CodeFuse-Query/tutorial/notebook/query.json\n"
     ]
    }
   ],
   "source": [
    "%%save_to ./query.json"
   ]
  },
  {
   "cell_type": "markdown",
   "metadata": {
    "collapsed": false
   },
   "source": [
    "STEP 3: 好了，你可以针对分析生成的结果，进行进一步的代码分析了，比如你可以结合pandas库，使用刚刚生成的 query.json 实现最大函数复杂度Top 10的排序查询："
   ]
  },
  {
   "cell_type": "code",
   "execution_count": 6,
   "metadata": {
    "ExecuteTime": {
     "end_time": "2023-11-23T03:54:56.998681Z",
     "start_time": "2023-11-23T03:54:56.976694Z"
    },
    "collapsed": false
   },
   "outputs": [
    {
     "name": "stdout",
     "output_type": "stream",
     "text": [
      "                                       name  value  ... sline  eline\n",
      "354      RequestEncodingMixin._encode_files     21  ...   137    203\n",
      "572      HTTPDigestAuth.build_digest_header     19  ...   126    234\n",
      "232                        HTTPAdapter.send     19  ...   433    537\n",
      "145            PreparedRequest.prepare_body     17  ...   494    570\n",
      "142             PreparedRequest.prepare_url     17  ...   409    481\n",
      "26                    should_bypass_proxies     15  ...   760    818\n",
      "345  SessionRedirectMixin.resolve_redirects     15  ...   159    280\n",
      "239                 HTTPAdapter.cert_verify     14  ...   237    291\n",
      "8                                 super_len     14  ...   133    196\n",
      "68                           get_netrc_auth     12  ...   199    253\n",
      "\n",
      "[10 rows x 5 columns]\n"
     ]
    }
   ],
   "source": [
    "%%python\n",
    "import pandas as pd\n",
    "data = pd.read_json('./query.json')\n",
    "data.sort_values('value', ascending=False, inplace=True)\n",
    "top_10 = data.head(10)\n",
    "print(top_10)"
   ]
  },
  {
   "cell_type": "markdown",
   "metadata": {
    "collapsed": false
   },
   "source": [
    "Enjoy！"
   ]
  }
 ],
 "metadata": {
  "kernelspec": {
   "display_name": "Godel kernel",
   "language": "rust",
   "name": "godel-jupyter"
  },
  "language_info": {
   "file_extension": ".gdl",
   "help_links": [
    {
     "text": "Godel kernel Magics",
     "url": "https://sparrow.alipay.com"
    }
   ],
   "mimetype": "text/rust",
   "name": "rust",
   "version": "0.0.4"
  }
 },
 "nbformat": 4,
 "nbformat_minor": 2
}
