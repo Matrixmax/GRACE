{
 "cells": [
  {
   "cell_type": "markdown",
   "metadata": {},
   "source": [
    "# Java 分析示例\n",
    "这是一个使用CodeFuse-Query分析java项目的教程。在教程中，你将体验到使用命令行工具对代码仓库进行数据化，然后使用Godel语言来分析这个仓库。"
   ]
  },
  {
   "cell_type": "markdown",
   "metadata": {},
   "source": [
    "STEP 0: 克隆要分析的仓库。我们以蚂蚁集团的 SOFABolt 项目为例。"
   ]
  },
  {
   "cell_type": "code",
   "execution_count": 1,
   "metadata": {},
   "outputs": [],
   "source": [
    "!git clone https://github.com/sofastack/sofa-bolt.git -q"
   ]
  },
  {
   "cell_type": "markdown",
   "metadata": {},
   "source": [
    "STEP 1: 代码数据化。使用 `sparrow database create` 命令创建一个db文件，需要指定待分析的仓库地址，分析的语言，以及db文件的存储路径。该文件存储着代码仓库的结构化数据，之后的分析就是针对这份数据进行。"
   ]
  },
  {
   "cell_type": "code",
   "execution_count": 2,
   "metadata": {},
   "outputs": [],
   "source": [
    "!sparrow database create --source-root sofa-bolt --data-language-type java --output ./db/sofa-bolt --overwrite > /dev/null"
   ]
  },
  {
   "cell_type": "markdown",
   "metadata": {},
   "source": [
    "STEP 2: 使用Godel分析语言分析db文件。在本教程中，可以点击代码左侧的执行按钮，直接运行分析脚本。在命令行中，你可以使用 `sparrow query run` 命令来执行查询脚本，具体可以使用`sparrow query run -h` 来获取详细参数信息。\n",
    "在这个例子中，我们使用Godel语言查询了全仓库的类方法。你也可以在where子句中加入过滤条件，获取你想要的结果。"
   ]
  },
  {
   "cell_type": "code",
   "execution_count": 3,
   "metadata": {},
   "outputs": [
    {
     "name": "stdout",
     "output_type": "stream",
     "text": [
      "/workspaces/CodeFuse-Query/tutorial/notebook/db/sofa-bolt\n"
     ]
    },
    {
     "name": "stderr",
     "output_type": "stream",
     "text": [
      "\u001b[0;31mSparrow database is set to: /workspaces/CodeFuse-Query/tutorial/notebook/db/sofa-bolt\n",
      "\u001b[0m"
     ]
    },
    {
     "name": "stdout",
     "output_type": "stream",
     "text": [
      "2023-12-06 07:45:32,507 INFO: sparrow 2.0.0\n",
      " will start\n",
      "2023-12-06 07:45:32,507 INFO: database /workspaces/CodeFuse-Query/tutorial/notebook/db/sofa-bolt/coref_java_src.db size: 30.49 MB\n",
      "2023-12-06 07:45:32,508 INFO: execute : /sparrow-cli/godel-script/usr/bin/godel /tmp/godel-jupyter-w6r7dgnm/query.gdl -p /sparrow-cli/lib-1.0 -o /tmp/tmpycrdkpyy.gdl\n",
      "2023-12-06 07:45:32,673 INFO: godel-script compile time: 0.16s\n",
      "2023-12-06 07:45:32,673 INFO: execute : /sparrow-cli/godel-1.0/usr/bin/godel /tmp/tmpycrdkpyy.gdl --run-souffle-directly --package-path /sparrow-cli/lib-1.0 --souffle-fact-dir /workspaces/CodeFuse-Query/tutorial/notebook/db/sofa-bolt --souffle-output-format json --souffle-output-path /tmp/godel-jupyter-w6r7dgnm/query.json\n",
      "2023-12-06 07:45:40,305 INFO: Task /tmp/godel-jupyter-w6r7dgnm/query.gdl is success, result is NOT-EMPTY, execution time is  7.80s.\n",
      "2023-12-06 07:45:40,305 INFO: run success\n",
      "\n",
      "Total results: 1730\n"
     ]
    },
    {
     "data": {
      "text/html": [
       "<div>\n",
       "<style scoped>\n",
       "    .dataframe tbody tr th:only-of-type {\n",
       "        vertical-align: middle;\n",
       "    }\n",
       "\n",
       "    .dataframe tbody tr th {\n",
       "        vertical-align: top;\n",
       "    }\n",
       "\n",
       "    .dataframe thead th {\n",
       "        text-align: right;\n",
       "    }\n",
       "</style>\n",
       "<table border=\"1\" class=\"dataframe\">\n",
       "  <thead>\n",
       "    <tr style=\"text-align: right;\">\n",
       "      <th></th>\n",
       "      <th>className</th>\n",
       "      <th>methodName</th>\n",
       "      <th>methodSignature</th>\n",
       "    </tr>\n",
       "  </thead>\n",
       "  <tbody>\n",
       "    <tr>\n",
       "      <th>0</th>\n",
       "      <td>com.alipay.remoting.Connection</td>\n",
       "      <td>Connection</td>\n",
       "      <td>com.alipay.remoting.Connection.Connection:null...</td>\n",
       "    </tr>\n",
       "    <tr>\n",
       "      <th>1</th>\n",
       "      <td>com.alipay.remoting.Connection</td>\n",
       "      <td>Connection</td>\n",
       "      <td>com.alipay.remoting.Connection.Connection:null...</td>\n",
       "    </tr>\n",
       "    <tr>\n",
       "      <th>2</th>\n",
       "      <td>com.alipay.remoting.Connection</td>\n",
       "      <td>Connection</td>\n",
       "      <td>com.alipay.remoting.Connection.Connection:null...</td>\n",
       "    </tr>\n",
       "    <tr>\n",
       "      <th>3</th>\n",
       "      <td>com.alipay.remoting.Connection</td>\n",
       "      <td>Connection</td>\n",
       "      <td>com.alipay.remoting.Connection.Connection:null...</td>\n",
       "    </tr>\n",
       "    <tr>\n",
       "      <th>4</th>\n",
       "      <td>com.alipay.remoting.Connection</td>\n",
       "      <td>isFine</td>\n",
       "      <td>com.alipay.remoting.Connection.isFine:boolean()</td>\n",
       "    </tr>\n",
       "    <tr>\n",
       "      <th>...</th>\n",
       "      <td>...</td>\n",
       "      <td>...</td>\n",
       "      <td>...</td>\n",
       "    </tr>\n",
       "    <tr>\n",
       "      <th>1725</th>\n",
       "      <td>com.alipay.remoting.util.NettyEventLoopUtil</td>\n",
       "      <td>newEventLoopGroup</td>\n",
       "      <td>com.alipay.remoting.util.NettyEventLoopUtil.ne...</td>\n",
       "    </tr>\n",
       "    <tr>\n",
       "      <th>1726</th>\n",
       "      <td>com.alipay.remoting.util.NettyEventLoopUtil</td>\n",
       "      <td>getServerSocketChannelClass</td>\n",
       "      <td>com.alipay.remoting.util.NettyEventLoopUtil.ge...</td>\n",
       "    </tr>\n",
       "    <tr>\n",
       "      <th>1727</th>\n",
       "      <td>com.alipay.remoting.util.NettyEventLoopUtil</td>\n",
       "      <td>enableTriggeredMode</td>\n",
       "      <td>com.alipay.remoting.util.NettyEventLoopUtil.en...</td>\n",
       "    </tr>\n",
       "    <tr>\n",
       "      <th>1728</th>\n",
       "      <td>com.alipay.remoting.util.NettyEventLoopUtil</td>\n",
       "      <td>getClientSocketChannelClass</td>\n",
       "      <td>com.alipay.remoting.util.NettyEventLoopUtil.ge...</td>\n",
       "    </tr>\n",
       "    <tr>\n",
       "      <th>1729</th>\n",
       "      <td>com.alipay.remoting.codec.ProtocolCodeBasedDec...</td>\n",
       "      <td>testDecodeIllegalPacket</td>\n",
       "      <td>com.alipay.remoting.codec.ProtocolCodeBasedDec...</td>\n",
       "    </tr>\n",
       "  </tbody>\n",
       "</table>\n",
       "</div>"
      ],
      "text/plain": [
       "<IPython.core.display.HTML object>"
      ]
     },
     "metadata": {},
     "output_type": "display_data"
    }
   ],
   "source": [
    "%db db/sofa-bolt\n",
    "// script\n",
    "use coref::java::{Callable, Class, Interface, JavaDB}\n",
    "\n",
    "fn db() -> JavaDB {\n",
    "    return JavaDB::load(\"coref_java_src.db\")\n",
    "}\n",
    "\n",
    "query class_method from\n",
    "    m in Callable(db()),\n",
    "    c in Class(db())\n",
    "where\n",
    "    c.key_eq(m.getBelongedClass())\n",
    "select\n",
    "    c.getQualifiedName() as className,\n",
    "    m.getName() as methodName,\n",
    "    m.getSignature() as methodSignature"
   ]
  }
 ],
 "metadata": {
  "kernelspec": {
   "display_name": "Godel kernel",
   "language": "rust",
   "name": "godel-jupyter"
  },
  "language_info": {
   "file_extension": ".gdl",
   "help_links": [
    {
     "text": "Godel kernel Magics",
     "url": "https://sparrow.alipay.com"
    }
   ],
   "mimetype": "text/rust",
   "name": "rust",
   "version": "0.0.4"
  }
 },
 "nbformat": 4,
 "nbformat_minor": 2
}
