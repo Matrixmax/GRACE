{
 "cells": [
  {
   "cell_type": "markdown",
   "metadata": {},
   "source": [
    "这是一个使用CodeFuse-Query分析 XML 项目的教程。在教程中，你将体验到使用命令行工具对代码仓库进行数据化，然后使用Godel语言来分析这个仓库。"
   ]
  },
  {
   "cell_type": "markdown",
   "metadata": {
    "collapsed": false
   },
   "source": [
    "检查cli是否就绪"
   ]
  },
  {
   "cell_type": "code",
   "execution_count": 1,
   "metadata": {
    "collapsed": false
   },
   "outputs": [
    {
     "name": "stdout",
     "output_type": "stream",
     "text": [
      "/sparrow-cli/sparrow\n",
      "\n"
     ]
    }
   ],
   "source": [
    "!which sparrow"
   ]
  },
  {
   "cell_type": "markdown",
   "metadata": {
    "collapsed": false
   },
   "source": [
    "STEP 0: 克隆要分析的仓库。我们以 [sofa-boot](https://github.com/sofastack/sofa-boot.git) 项目为例。"
   ]
  },
  {
   "cell_type": "code",
   "execution_count": 2,
   "metadata": {
    "ExecuteTime": {
     "end_time": "2023-11-22T08:30:58.387715Z",
     "start_time": "2023-11-22T08:30:44.572634Z"
    }
   },
   "outputs": [],
   "source": [
    "!git clone https://github.com/sofastack/sofa-boot.git -q"
   ]
  },
  {
   "cell_type": "markdown",
   "metadata": {},
   "source": [
    "STEP 1: 代码数据化。使用 `sparrow database create` 命令创建一个db文件，指定待分析的仓库地址（当前目录下的sofa-boot子目录），分析的语言（xml），以及db文件的存储路径（放置在当前目录下的/db/sofa-boot）。执行该命令之后，就会生成一份db文件，该文件存储着代码仓库的结构化数据，之后的分析就是针对这份数据进行。"
   ]
  },
  {
   "cell_type": "code",
   "execution_count": 3,
   "metadata": {
    "ExecuteTime": {
     "end_time": "2023-11-23T03:46:32.220317Z",
     "start_time": "2023-11-23T03:46:12.785705Z"
    }
   },
   "outputs": [],
   "source": [
    "!sparrow database create --source-root sofa-boot --data-language-type xml --output ./db/sofa-boot --overwrite > /dev/null"
   ]
  },
  {
   "cell_type": "markdown",
   "metadata": {},
   "source": [
    "STEP 2: 使用Godel分析语言分析db文件。在本教程中，可以点击代码左侧的执行按钮，或使用快捷键：`Shift+Enter`，直接运行分析脚本。这里使用 `%db /path/to/db` 魔法命令来设置COREF db路径，内核会读取这个值来进行query查询。"
   ]
  },
  {
   "cell_type": "markdown",
   "metadata": {
    "collapsed": false
   },
   "source": [
    "<b>示例</b> 查询 [sofa-boot](https://github.com/sofastack/sofa-boot.git) 的POM信息（如文件路径，引用的jar资源，版本信息）。\n",
    "\n",
    "第一行通过内核魔法命令指定分析的db路径，后面写查询POM信息Godel脚本。"
   ]
  },
  {
   "cell_type": "code",
   "execution_count": 4,
   "metadata": {},
   "outputs": [
    {
     "name": "stdout",
     "output_type": "stream",
     "text": [
      "/workspaces/CodeFuse-Query/tutorial/notebook/db/sofa-boot\n"
     ]
    },
    {
     "name": "stderr",
     "output_type": "stream",
     "text": [
      "\u001b[0;31mSparrow database is set to: /workspaces/CodeFuse-Query/tutorial/notebook/db/sofa-boot\n",
      "\u001b[0m"
     ]
    },
    {
     "name": "stdout",
     "output_type": "stream",
     "text": [
      "2023-12-06 07:49:13,344 INFO: sparrow 2.0.0\n",
      " will start\n",
      "2023-12-06 07:49:13,345 INFO: database /workspaces/CodeFuse-Query/tutorial/notebook/db/sofa-boot/coref_xml_src.db size: 908.00 KB\n",
      "2023-12-06 07:49:13,345 INFO: execute : /sparrow-cli/godel-script/usr/bin/godel /tmp/godel-jupyter-q_z2i2by/query.gdl -p /sparrow-cli/lib-1.0 -o /tmp/tmph3yjtf_3.gdl\n",
      "2023-12-06 07:49:13,361 INFO: godel-script compile time: 0.02s\n",
      "2023-12-06 07:49:13,362 INFO: execute : /sparrow-cli/godel-1.0/usr/bin/godel /tmp/tmph3yjtf_3.gdl --run-souffle-directly --package-path /sparrow-cli/lib-1.0 --souffle-fact-dir /workspaces/CodeFuse-Query/tutorial/notebook/db/sofa-boot --souffle-output-format json --souffle-output-path /tmp/godel-jupyter-q_z2i2by/query.json\n",
      "2023-12-06 07:49:13,678 INFO: Task /tmp/godel-jupyter-q_z2i2by/query.gdl is success, result is NOT-EMPTY, execution time is  0.33s.\n",
      "2023-12-06 07:49:13,678 INFO: run success\n",
      "\n",
      "Total results: 105\n"
     ]
    },
    {
     "data": {
      "text/html": [
       "<div>\n",
       "<style scoped>\n",
       "    .dataframe tbody tr th:only-of-type {\n",
       "        vertical-align: middle;\n",
       "    }\n",
       "\n",
       "    .dataframe tbody tr th {\n",
       "        vertical-align: top;\n",
       "    }\n",
       "\n",
       "    .dataframe thead th {\n",
       "        text-align: right;\n",
       "    }\n",
       "</style>\n",
       "<table border=\"1\" class=\"dataframe\">\n",
       "  <thead>\n",
       "    <tr style=\"text-align: right;\">\n",
       "      <th></th>\n",
       "      <th>fileName</th>\n",
       "      <th>m1</th>\n",
       "      <th>m2</th>\n",
       "      <th>m3</th>\n",
       "    </tr>\n",
       "  </thead>\n",
       "  <tbody>\n",
       "    <tr>\n",
       "      <th>0</th>\n",
       "      <td>sofa-boot-project/sofa-boot-parent/pom.xml</td>\n",
       "      <td>com.puppycrawl.tools</td>\n",
       "      <td>8.42</td>\n",
       "      <td>checkstyle</td>\n",
       "    </tr>\n",
       "    <tr>\n",
       "      <th>1</th>\n",
       "      <td>sofa-boot-project/sofa-boot-tools/sofa-boot-gr...</td>\n",
       "      <td>org.springframework.boot</td>\n",
       "      <td>3.1.2</td>\n",
       "      <td>spring-boot-gradle-plugin</td>\n",
       "    </tr>\n",
       "    <tr>\n",
       "      <th>2</th>\n",
       "      <td>sofa-boot-project/sofa-boot-tools/sofa-boot-gr...</td>\n",
       "      <td>org.apache.commons</td>\n",
       "      <td>1.19</td>\n",
       "      <td>commons-compress</td>\n",
       "    </tr>\n",
       "    <tr>\n",
       "      <th>3</th>\n",
       "      <td>sofa-boot-project/sofa-boot-tools/sofa-boot-gr...</td>\n",
       "      <td>io.spring.gradle</td>\n",
       "      <td>1.1.0</td>\n",
       "      <td>dependency-management-plugin</td>\n",
       "    </tr>\n",
       "    <tr>\n",
       "      <th>4</th>\n",
       "      <td>sofa-boot-project/sofaboot-dependencies/pom.xml</td>\n",
       "      <td>com.alipay.sofa</td>\n",
       "      <td>${sofa.ark.version}</td>\n",
       "      <td>sofa-ark-springboot-starter</td>\n",
       "    </tr>\n",
       "    <tr>\n",
       "      <th>...</th>\n",
       "      <td>...</td>\n",
       "      <td>...</td>\n",
       "      <td>...</td>\n",
       "      <td>...</td>\n",
       "    </tr>\n",
       "    <tr>\n",
       "      <th>100</th>\n",
       "      <td>sofa-boot-tests/pom.xml</td>\n",
       "      <td>com.alipay.sofa</td>\n",
       "      <td>${sofa.boot.version}</td>\n",
       "      <td>sofa-boot-smoke-tests-boot</td>\n",
       "    </tr>\n",
       "    <tr>\n",
       "      <th>101</th>\n",
       "      <td>sofa-boot-tests/pom.xml</td>\n",
       "      <td>com.alipay.sofa</td>\n",
       "      <td>${sofa.boot.version}</td>\n",
       "      <td>sofa-boot-smoke-tests-ark</td>\n",
       "    </tr>\n",
       "    <tr>\n",
       "      <th>102</th>\n",
       "      <td>sofa-boot-tests/pom.xml</td>\n",
       "      <td>com.alipay.sofa</td>\n",
       "      <td>${sofa.boot.version}</td>\n",
       "      <td>sofa-boot-smoke-tests-runtime</td>\n",
       "    </tr>\n",
       "    <tr>\n",
       "      <th>103</th>\n",
       "      <td>sofa-boot-tests/pom.xml</td>\n",
       "      <td>com.alipay.sofa</td>\n",
       "      <td>${sofa.boot.version}</td>\n",
       "      <td>sofa-boot-smoke-tests-tracer</td>\n",
       "    </tr>\n",
       "    <tr>\n",
       "      <th>104</th>\n",
       "      <td>sofa-boot-tests/pom.xml</td>\n",
       "      <td>com.alipay.sofa</td>\n",
       "      <td>${sofa.boot.version}</td>\n",
       "      <td>sofa-boot-smoke-tests-rpc</td>\n",
       "    </tr>\n",
       "  </tbody>\n",
       "</table>\n",
       "</div>"
      ],
      "text/plain": [
       "<IPython.core.display.HTML object>"
      ]
     },
     "metadata": {},
     "output_type": "display_data"
    }
   ],
   "source": [
    "%db ./db/sofa-boot\n",
    "// script\n",
    "use coref::xml::*\n",
    "\n",
    "schema DependencyElement extends XmlElement {}\n",
    "\n",
    "impl DependencyElement {\n",
    "    @data_constraint\n",
    "    pub fn __all__(db: XmlDB) -> *DependencyElement {\n",
    "        for(e in XmlElement(db)) {\n",
    "            if (e.getElementName() = \"dependency\") {\n",
    "                yield DependencyElement {\n",
    "                    id: e.id,\n",
    "                    location_id: e.location_id,\n",
    "                    parent_id: e.parent_id,\n",
    "                    index_order: e.index_order\n",
    "                }\n",
    "            }\n",
    "        }\n",
    "    }\n",
    "}\n",
    "\n",
    "schema GroupElement extends XmlElement {}\n",
    "\n",
    "impl GroupElement {\n",
    "    @data_constraint\n",
    "    pub fn __all__(db: XmlDB) -> *GroupElement {\n",
    "        for(e in XmlElement(db)) {\n",
    "            if (e.getElementName() = \"groupId\") {\n",
    "                yield GroupElement {\n",
    "                    id: e.id,\n",
    "                    location_id: e.location_id,\n",
    "                    parent_id: e.parent_id,\n",
    "                    index_order: e.index_order\n",
    "                }\n",
    "            }\n",
    "        }\n",
    "    }\n",
    "}\n",
    "\n",
    "schema VersionElement extends XmlElement {}\n",
    "\n",
    "impl VersionElement {\n",
    "    @data_constraint\n",
    "    pub fn __all__(db: XmlDB) -> *VersionElement {\n",
    "        for(e in XmlElement(db)) {\n",
    "            if (e.getElementName() = \"version\") {\n",
    "                yield VersionElement {\n",
    "                    id: e.id,\n",
    "                    location_id: e.location_id,\n",
    "                    parent_id: e.parent_id,\n",
    "                    index_order: e.index_order\n",
    "                }\n",
    "            }\n",
    "        }\n",
    "    }\n",
    "}\n",
    "\n",
    "schema ArtifactElement extends XmlElement {}\n",
    "\n",
    "impl ArtifactElement {\n",
    "    @data_constraint\n",
    "    pub fn __all__(db: XmlDB) -> *ArtifactElement {\n",
    "        for(e in XmlElement(db)) {\n",
    "            if (e.getElementName() = \"artifactId\") {\n",
    "                yield ArtifactElement {\n",
    "                    id: e.id,\n",
    "                    location_id: e.location_id,\n",
    "                    parent_id: e.parent_id,\n",
    "                    index_order: e.index_order\n",
    "                }\n",
    "            }\n",
    "        }\n",
    "    }\n",
    "}\n",
    "\n",
    "schema PomFile extends XmlFile {}\n",
    "\n",
    "impl PomFile {\n",
    "    @data_constraint\n",
    "    pub fn __all__(db: XmlDB) -> *PomFile {\n",
    "        for(f in XmlFile(db)) {\n",
    "            if (f.getFileName() = \"pom.xml\") {\n",
    "                yield PomFile {\n",
    "                    id: f.id,\n",
    "                    file_name: f.file_name,\n",
    "                    relative_path: f.relative_path\n",
    "                }\n",
    "            }\n",
    "        }\n",
    "    }\n",
    "}\n",
    "\n",
    "// output relative path of the file, referenced jar name and version\n",
    "fn out(fileName: string, m1: string, m2: string, m3: string) -> bool {\n",
    "    let (db = XmlDB::load(\"coref_xml_src.db\")) {\n",
    "        for (f in PomFile(db),\n",
    "            e1 in GroupElement(db),\n",
    "            e2 in VersionElement(db),\n",
    "            e3 in ArtifactElement(db),\n",
    "            c1 in XmlCharacter(db),\n",
    "            c2 in XmlCharacter(db),\n",
    "            c3 in XmlCharacter(db),\n",
    "            p in DependencyElement(db)) {\n",
    "            if (f.key_eq(p.getLocation().getFile()) &&\n",
    "                fileName = f.getRelativePath() &&\n",
    "                p.key_eq(e1.getParent()) &&\n",
    "                e1.key_eq(c1.getBelongedElement()) &&\n",
    "                m1 = c1.getText() &&\n",
    "                p.key_eq(e2.getParent()) &&\n",
    "                e2.key_eq(c2.getBelongedElement()) &&\n",
    "                m2 = c2.getText() &&\n",
    "                p.key_eq(e3.getParent()) &&\n",
    "                e3.key_eq(c3.getBelongedElement()) &&\n",
    "                m3 = c3.getText()) {\n",
    "                return true\n",
    "            }\n",
    "        }\n",
    "    }\n",
    "}\n",
    "\n",
    "fn main() {\n",
    "    output(out())\n",
    "}"
   ]
  },
  {
   "cell_type": "markdown",
   "metadata": {},
   "source": [
    "保存上一次运行的 query 结果保存到一个 JSON/CSV 文件"
   ]
  },
  {
   "cell_type": "code",
   "execution_count": 5,
   "metadata": {},
   "outputs": [
    {
     "name": "stdout",
     "output_type": "stream",
     "text": [
      "Query result saved to /workspaces/CodeFuse-Query/tutorial/notebook/query.csv\n"
     ]
    }
   ],
   "source": [
    "%%save_to ./query.csv"
   ]
  },
  {
   "cell_type": "markdown",
   "metadata": {
    "collapsed": false
   },
   "source": [
    "STEP 3: 好了，你可以针对分析生成的结果，进行进一步的代码分析了。"
   ]
  },
  {
   "cell_type": "markdown",
   "metadata": {
    "collapsed": false
   },
   "source": [
    "Enjoy！"
   ]
  }
 ],
 "metadata": {
  "kernelspec": {
   "display_name": "Godel kernel",
   "language": "rust",
   "name": "godel-jupyter"
  },
  "language_info": {
   "file_extension": ".gdl",
   "help_links": [
    {
     "text": "Godel kernel Magics",
     "url": "https://sparrow.alipay.com"
    }
   ],
   "mimetype": "text/rust",
   "name": "rust",
   "version": "0.0.4"
  }
 },
 "nbformat": 4,
 "nbformat_minor": 2
}
